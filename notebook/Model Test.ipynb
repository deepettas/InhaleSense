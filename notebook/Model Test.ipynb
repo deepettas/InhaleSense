{
 "cells": [
  {
   "cell_type": "code",
   "execution_count": 1,
   "metadata": {},
   "outputs": [],
   "source": [
    "import os\n",
    "import sys\n",
    "module_path = os.path.abspath(os.path.join('..'))\n",
    "if module_path not in sys.path:\n",
    "    sys.path.append(module_path)\n"
   ]
  },
  {
   "cell_type": "code",
   "execution_count": 2,
   "metadata": {},
   "outputs": [],
   "source": [
    "from src.preparation import fetch_dataset\n",
    "from src.modules.visualizer import do_heatmap\n",
    "\n"
   ]
  },
  {
   "cell_type": "code",
   "execution_count": 3,
   "metadata": {},
   "outputs": [],
   "source": [
    "\n",
    "import tensorflow as tf\n",
    "from tensorflow.compat.v1.math import confusion_matrix\n",
    "from tensorflow.python.keras.models import Sequential\n",
    "from tensorflow.python.keras.layers import Dense, Dropout, Flatten\n",
    "from tensorflow.python.keras.layers import LSTM\n",
    "from tensorflow.python.keras.models import load_model\n",
    "from src.processing import make_tf_dataset, split_train_test, dataset_to_array\n",
    "\n",
    "from sklearn.metrics import confusion_matrix\n",
    "import matplotlib.pyplot as plt\n",
    "\n"
   ]
  },
  {
   "cell_type": "code",
   "execution_count": 4,
   "metadata": {},
   "outputs": [
    {
     "name": "stderr",
     "output_type": "stream",
     "text": [
      "WARNING: Logging before flag parsing goes to stderr.\n",
      "W0731 13:00:29.528817 4571239872 deprecation.py:323] From /Users/noresources/anaconda3/lib/python3.7/site-packages/tensorflow/python/ops/math_grad.py:1250: add_dispatch_support.<locals>.wrapper (from tensorflow.python.ops.array_ops) is deprecated and will be removed in a future version.\n",
      "Instructions for updating:\n",
      "Use tf.where in 2.0, which has the same broadcast rule as np.where\n"
     ]
    }
   ],
   "source": [
    "model_af = load_model('../notebook/model_a1_f1_100.h5')\n",
    "model_ag = load_model('../notebook/model_a1_g1_100.h5')\n",
    "model_gf = load_model('../notebook/model_f1_g1_100.h5')\n",
    "model_all = load_model('../notebook/model_512_100.h5')"
   ]
  },
  {
   "cell_type": "code",
   "execution_count": 5,
   "metadata": {},
   "outputs": [],
   "source": [
    "dataset_a = fetch_dataset('dataset_a1_slim.pkl')\n",
    "dataset_f = fetch_dataset('dataset_f1_slim.pkl')\n",
    "dataset_g = fetch_dataset('dataset_g1_slim.pkl')\n",
    "dataset_all = fetch_dataset('dataset_all_slim.pkl')"
   ]
  },
  {
   "cell_type": "code",
   "execution_count": 6,
   "metadata": {},
   "outputs": [],
   "source": [
    "# This is the size of the window that is fed into the DNN\n",
    "window_size = 15\n",
    "# The number of the features present in the dataset\n",
    "num_of_features = 42\n",
    "# Number of distinct labels in the output\n",
    "label_length = 4\n",
    "# Hyperparameter that defines the number of samples to work through\n",
    "# before updating the internal model parameters.\n",
    "batch_size = 25\n",
    "# Epochs\n",
    "ep = 100"
   ]
  },
  {
   "cell_type": "code",
   "execution_count": 7,
   "metadata": {},
   "outputs": [],
   "source": [
    "\n",
    "\n",
    "\n",
    "def list_to_num(el):\n",
    "    if el == [1,0,0,0]:\n",
    "        return 0\n",
    "    elif el == [0,1,0,0]:\n",
    "        return 1\n",
    "    elif el == [0,0,1,0]:\n",
    "        return 2\n",
    "    elif el == [0,0,0,1]:\n",
    "        return 3\n",
    "    else:\n",
    "        print('Error',el)\n",
    "        \n",
    "def test_model(md, dt):\n",
    "    print('\\n')\n",
    "    data_test = make_tf_dataset(dt, window_size, num_of_features, label_length ).batch(batch_size)\n",
    "    results = md.evaluate(data_test)\n",
    "    \n",
    "    ph = []\n",
    "    predictions = md.predict(data_test)\n",
    "    for pred in predictions:\n",
    "        i = list(pred).index(max(list(pred)))\n",
    "        ph.append(i)\n",
    "    # Ground truth\n",
    "    fm , labels = dataset_to_array(dt)\n",
    "    # Padding\n",
    "    ph = ph + [3 for i in range (0, len(labels) - len(ph))]\n",
    "    \n",
    "    # -----------------\n",
    "    labels = [list_to_num(list(x)) for x in labels]\n",
    "    # CM\n",
    "    cm = confusion_matrix(labels, ph)\n",
    "    print('\\n',cm)"
   ]
  },
  {
   "cell_type": "code",
   "execution_count": 8,
   "metadata": {
    "scrolled": false
   },
   "outputs": [
    {
     "name": "stdout",
     "output_type": "stream",
     "text": [
      "\n",
      "\n"
     ]
    },
    {
     "name": "stderr",
     "output_type": "stream",
     "text": [
      "W0731 13:02:36.552551 4571239872 deprecation.py:323] From /Users/noresources/anaconda3/lib/python3.7/site-packages/tensorflow/python/data/ops/dataset_ops.py:505: py_func (from tensorflow.python.ops.script_ops) is deprecated and will be removed in a future version.\n",
      "Instructions for updating:\n",
      "tf.py_func is deprecated in TF V2. Instead, there are two\n",
      "    options available in V2.\n",
      "    - tf.py_function takes a python function which manipulates tf eager\n",
      "    tensors instead of numpy arrays. It's easy to convert a tf eager tensor to\n",
      "    an ndarray (just call tensor.numpy()) but having access to eager tensors\n",
      "    means `tf.py_function`s can use accelerators such as GPUs as well as\n",
      "    being differentiable using a gradient tape.\n",
      "    - tf.numpy_function maintains the semantics of the deprecated tf.py_func\n",
      "    (it is not differentiable, and manipulates numpy arrays). It drops the\n",
      "    stateful argument making all functions stateful.\n",
      "    \n"
     ]
    },
    {
     "name": "stdout",
     "output_type": "stream",
     "text": [
      "    725/Unknown - 35s 48ms/step - loss: 0.1132 - accuracy: 0.9773\n",
      " [[ 6666   256    24   122]\n",
      " [   40 10410     1   330]\n",
      " [   11     7   182    66]\n",
      " [    0     0     0     0]]\n",
      "\n",
      "\n",
      "   2283/Unknown - 94s 41ms/step - loss: 0.0876 - accuracy: 0.9785- 91s 40ms/step -\n",
      " [[12828    81   112   340]\n",
      " [  158 22035    24   266]\n",
      " [   84    22  3347   406]\n",
      " [  243   402   344 16387]]\n",
      "\n",
      "\n",
      "    340/Unknown - 17s 49ms/step - loss: 0.0263 - accuracy: 0.9968\n",
      " [[4655   13    0]\n",
      " [  42 3775   14]\n",
      " [   0    0    0]]\n"
     ]
    }
   ],
   "source": [
    "test_model(model_af, dataset_g)\n",
    "test_model(model_ag, dataset_f)\n",
    "test_model(model_gf, dataset_a)"
   ]
  },
  {
   "cell_type": "code",
   "execution_count": 9,
   "metadata": {},
   "outputs": [],
   "source": [
    "test = dataset_all[-1000:]"
   ]
  },
  {
   "cell_type": "code",
   "execution_count": 10,
   "metadata": {},
   "outputs": [
    {
     "name": "stdout",
     "output_type": "stream",
     "text": [
      "\n",
      "\n",
      "   2889/Unknown - 316s 109ms/step - loss: 0.0824 - accuracy: 0.9866\n",
      " [[20733    82    32   523]\n",
      " [   52 31321     0   431]\n",
      " [   28    18  2952   408]\n",
      " [  148   109   127 15272]]\n"
     ]
    }
   ],
   "source": [
    "test_model(model_all, test)"
   ]
  },
  {
   "cell_type": "code",
   "execution_count": null,
   "metadata": {},
   "outputs": [],
   "source": []
  }
 ],
 "metadata": {
  "kernelspec": {
   "display_name": "Python 3",
   "language": "python",
   "name": "python3"
  },
  "language_info": {
   "codemirror_mode": {
    "name": "ipython",
    "version": 3
   },
   "file_extension": ".py",
   "mimetype": "text/x-python",
   "name": "python",
   "nbconvert_exporter": "python",
   "pygments_lexer": "ipython3",
   "version": "3.7.3"
  },
  "varInspector": {
   "cols": {
    "lenName": 16,
    "lenType": 16,
    "lenVar": 40
   },
   "kernels_config": {
    "python": {
     "delete_cmd_postfix": "",
     "delete_cmd_prefix": "del ",
     "library": "var_list.py",
     "varRefreshCmd": "print(var_dic_list())"
    },
    "r": {
     "delete_cmd_postfix": ") ",
     "delete_cmd_prefix": "rm(",
     "library": "var_list.r",
     "varRefreshCmd": "cat(var_dic_list()) "
    }
   },
   "types_to_exclude": [
    "module",
    "function",
    "builtin_function_or_method",
    "instance",
    "_Feature"
   ],
   "window_display": false
  }
 },
 "nbformat": 4,
 "nbformat_minor": 2
}

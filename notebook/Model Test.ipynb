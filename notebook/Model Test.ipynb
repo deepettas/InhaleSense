{
 "cells": [
  {
   "cell_type": "code",
   "execution_count": 1,
   "metadata": {},
   "outputs": [],
   "source": [
    "import os\n",
    "import sys\n",
    "module_path = os.path.abspath(os.path.join('..'))\n",
    "if module_path not in sys.path:\n",
    "    sys.path.append(module_path)\n"
   ]
  },
  {
   "cell_type": "code",
   "execution_count": 2,
   "metadata": {},
   "outputs": [],
   "source": [
    "from src.preparation import fetch_dataset\n",
    "from src.modules.visualizer import do_heatmap\n",
    "\n"
   ]
  },
  {
   "cell_type": "code",
   "execution_count": 3,
   "metadata": {},
   "outputs": [],
   "source": [
    "\n",
    "import tensorflow as tf\n",
    "from tensorflow.compat.v1.math import confusion_matrix\n",
    "from tensorflow.python.keras.models import Sequential\n",
    "from tensorflow.python.keras.layers import Dense, Dropout, Flatten\n",
    "from tensorflow.python.keras.layers import LSTM\n",
    "from tensorflow.python.keras.models import load_model\n",
    "from src.processing import make_tf_dataset, split_train_test, dataset_to_array\n",
    "\n",
    "from sklearn.metrics import confusion_matrix\n",
    "import matplotlib.pyplot as plt\n",
    "\n"
   ]
  },
  {
   "cell_type": "code",
   "execution_count": 17,
   "metadata": {},
   "outputs": [],
   "source": [
    "model_af = load_model('../notebook/model_a1_f1_100.h5')\n",
    "model_ag = load_model('../notebook/model_a1_g1_100.h5')\n",
    "model_gf = load_model('../notebook/model_f1_g1_100.h5')\n",
    "model_all = load_model('../notebook/model_100.h5')"
   ]
  },
  {
   "cell_type": "code",
   "execution_count": 19,
   "metadata": {},
   "outputs": [],
   "source": [
    "dataset_a = fetch_dataset('dataset_a1_slim.pkl')\n",
    "dataset_f = fetch_dataset('dataset_f1_slim.pkl')\n",
    "dataset_g = fetch_dataset('dataset_g1_slim.pkl')\n",
    "dataset_all = fetch_dataset('dataset_all_slim.pkl')"
   ]
  },
  {
   "cell_type": "code",
   "execution_count": 6,
   "metadata": {},
   "outputs": [],
   "source": [
    "# This is the size of the window that is fed into the DNN\n",
    "window_size = 15\n",
    "# The number of the features present in the dataset\n",
    "num_of_features = 42\n",
    "# Number of distinct labels in the output\n",
    "label_length = 4\n",
    "# Hyperparameter that defines the number of samples to work through\n",
    "# before updating the internal model parameters.\n",
    "batch_size = 25\n",
    "# Epochs\n",
    "ep = 100"
   ]
  },
  {
   "cell_type": "code",
   "execution_count": 15,
   "metadata": {},
   "outputs": [],
   "source": [
    "\n",
    "\n",
    "\n",
    "def list_to_num(el):\n",
    "    if el == [1,0,0,0]:\n",
    "        return 0\n",
    "    elif el == [0,1,0,0]:\n",
    "        return 1\n",
    "    elif el == [0,0,1,0]:\n",
    "        return 2\n",
    "    elif el == [0,0,0,1]:\n",
    "        return 3\n",
    "    else:\n",
    "        print('Error',el)\n",
    "        \n",
    "def test_model(md, dt):\n",
    "    print('\\n')\n",
    "    data_test = make_tf_dataset(dt, window_size, num_of_features, label_length ).batch(batch_size)\n",
    "    results = md.evaluate(data_test)\n",
    "    \n",
    "    ph = []\n",
    "    predictions = model_af.predict(data_test)\n",
    "    for pred in predictions:\n",
    "        i = list(pred).index(max(list(pred)))\n",
    "        ph.append(i)\n",
    "    # Ground truth\n",
    "    fm , labels = dataset_to_array(dt)\n",
    "    # Padding\n",
    "    ph = ph + [3 for i in range (0, len(labels) - len(ph))]\n",
    "    \n",
    "    # -----------------\n",
    "    labels = [list_to_num(list(x)) for x in labels]\n",
    "    # CM\n",
    "    cm = confusion_matrix(labels, ph)\n",
    "    print('\\n',cm)"
   ]
  },
  {
   "cell_type": "code",
   "execution_count": 16,
   "metadata": {
    "scrolled": false
   },
   "outputs": [
    {
     "name": "stdout",
     "output_type": "stream",
     "text": [
      "\n",
      "\n",
      "    725/Unknown - 6s 9ms/step - loss: 0.1132 - accuracy: 0.9773\n",
      " [[ 6666   256    24   122]\n",
      " [   40 10410     1   330]\n",
      " [   11     7   182    66]\n",
      " [    0     0     0     0]]\n",
      "\n",
      "\n",
      "   2283/Unknown - 20s 9ms/step - loss: 0.0876 - accuracy: 0.9785\n",
      " [[12652   168   133   408]\n",
      " [   99 21849     9   526]\n",
      " [   99    32  3065   663]\n",
      " [  251   285   251 16589]]\n",
      "\n",
      "\n",
      "    340/Unknown - 3s 10ms/step - loss: 0.0263 - accuracy: 0.9968\n",
      " [[3511  853   28  276]\n",
      " [  17 3287    0  527]\n",
      " [   0    0    0    0]\n",
      " [   0    0    0    0]]\n"
     ]
    }
   ],
   "source": [
    "test_model(model_af, dataset_g)\n",
    "test_model(model_ag, dataset_f)\n",
    "test_model(model_gf, dataset_a)"
   ]
  },
  {
   "cell_type": "code",
   "execution_count": 20,
   "metadata": {},
   "outputs": [],
   "source": [
    "test = dataset_all[-600:]"
   ]
  },
  {
   "cell_type": "code",
   "execution_count": 21,
   "metadata": {},
   "outputs": [
    {
     "name": "stdout",
     "output_type": "stream",
     "text": [
      "\n",
      "\n",
      "   1703/Unknown - 15s 9ms/step - loss: 0.4251 - accuracy: 0.9368\n",
      " [[11390   609    80   428]\n",
      " [   59 17804     4   695]\n",
      " [   44    33  1715   296]\n",
      " [  132   135   162  8988]]\n"
     ]
    }
   ],
   "source": [
    "test_model(model_all, test)"
   ]
  },
  {
   "cell_type": "code",
   "execution_count": null,
   "metadata": {},
   "outputs": [],
   "source": []
  }
 ],
 "metadata": {
  "kernelspec": {
   "display_name": "Python 3",
   "language": "python",
   "name": "python3"
  },
  "language_info": {
   "codemirror_mode": {
    "name": "ipython",
    "version": 3
   },
   "file_extension": ".py",
   "mimetype": "text/x-python",
   "name": "python",
   "nbconvert_exporter": "python",
   "pygments_lexer": "ipython3",
   "version": "3.7.1"
  },
  "varInspector": {
   "cols": {
    "lenName": 16,
    "lenType": 16,
    "lenVar": 40
   },
   "kernels_config": {
    "python": {
     "delete_cmd_postfix": "",
     "delete_cmd_prefix": "del ",
     "library": "var_list.py",
     "varRefreshCmd": "print(var_dic_list())"
    },
    "r": {
     "delete_cmd_postfix": ") ",
     "delete_cmd_prefix": "rm(",
     "library": "var_list.r",
     "varRefreshCmd": "cat(var_dic_list()) "
    }
   },
   "types_to_exclude": [
    "module",
    "function",
    "builtin_function_or_method",
    "instance",
    "_Feature"
   ],
   "window_display": false
  }
 },
 "nbformat": 4,
 "nbformat_minor": 2
}

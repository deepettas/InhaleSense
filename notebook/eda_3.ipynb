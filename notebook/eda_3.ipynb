{
 "cells": [
  {
   "cell_type": "markdown",
   "metadata": {},
   "source": [
    "# Data Exploration #3\n",
    "### In this file we will: \n",
    "\n",
    "1. Check if our dataset is imbalanced.\n",
    "2. Try to fix it."
   ]
  },
  {
   "cell_type": "code",
   "execution_count": 4,
   "metadata": {},
   "outputs": [],
   "source": [
    "import sys\n",
    "import os\n",
    "# Relative import enabling\n",
    "module_path = os.path.abspath(os.path.join('..'))\n",
    "if module_path not in sys.path:\n",
    "    sys.path.append(module_path)\n"
   ]
  },
  {
   "cell_type": "markdown",
   "metadata": {},
   "source": [
    "### We want to check if our dataset is imbalanced, so we count the occurences of each label and plot them."
   ]
  },
  {
   "cell_type": "code",
   "execution_count": 62,
   "metadata": {},
   "outputs": [
    {
     "name": "stdout",
     "output_type": "stream",
     "text": [
      "3946 24677 36743 160706\n"
     ]
    }
   ],
   "source": [
    "import math\n",
    "import plotly.plotly as py\n",
    "import numpy as np\n",
    "import plotly.graph_objs as go\n",
    "from plotly.offline import iplot, init_notebook_mode\n",
    "from src.processing import make_dataset, dataset_to_array, dataset_to_generator\n",
    "from src.preparation import fetch_dataset, fetch_single_file\n",
    "import tensorflow as tf\n",
    "\n",
    "\n",
    "fm, lm = dataset_to_array(fetch_dataset('dataset_extended.pkl'))\n",
    "\n",
    "\n",
    "# da, dl = dataset_slim_to_array(fetch_dataset('dataset_whole.pkl'))\n",
    "n = 0\n",
    "d = 0\n",
    "e = 0\n",
    "i = 0\n",
    "for label in lm:\n",
    "    if list(label) == [0,0,0,1]:\n",
    "        n += 1\n",
    "    elif list(label) == [0,0,1,0]:\n",
    "        d += 1\n",
    "    elif list(label) == [0,1,0,0]:\n",
    "        e += 1\n",
    "    else:\n",
    "        i += 1\n",
    "label_occ = [d, i ,e, n]\n",
    "label_occ = [round(i/sum(label_occ),2) for i in label_occ]\n",
    "label_names = ['Drug', 'Inhale', 'Exhale', 'Noise']\n",
    "\n",
    "\n",
    "print(d, i, e, n)"
   ]
  },
  {
   "cell_type": "code",
   "execution_count": 9,
   "metadata": {},
   "outputs": [
    {
     "name": "stderr",
     "output_type": "stream",
     "text": [
      "/Users/noresources/anaconda3/lib/python3.7/site-packages/IPython/core/display.py:689: UserWarning:\n",
      "\n",
      "Consider using IPython.display.IFrame instead\n",
      "\n"
     ]
    },
    {
     "data": {
      "text/html": [
       "<iframe id=\"igraph\" scrolling=\"no\" style=\"border:none;\" seamless=\"seamless\" src=\"https://plot.ly/~noresources/10.embed\" height=\"525px\" width=\"100%\"></iframe>"
      ],
      "text/plain": [
       "<chart_studio.tools.PlotlyDisplay object>"
      ]
     },
     "execution_count": 9,
     "metadata": {},
     "output_type": "execute_result"
    }
   ],
   "source": [
    "data = [go.Bar(\n",
    "            x=label_names,\n",
    "            y=label_occ,\n",
    "            text= [d, i ,e, n]\n",
    "    )]\n",
    "\n",
    "py.iplot(data, filename='Dataset Label Occurences')"
   ]
  },
  {
   "cell_type": "markdown",
   "metadata": {},
   "source": [
    "## Pretty Imbalanced."
   ]
  },
  {
   "cell_type": "code",
   "execution_count": 70,
   "metadata": {},
   "outputs": [
    {
     "ename": "ZeroDivisionError",
     "evalue": "division by zero",
     "output_type": "error",
     "traceback": [
      "\u001b[0;31m---------------------------------------------------------------------------\u001b[0m",
      "\u001b[0;31mZeroDivisionError\u001b[0m                         Traceback (most recent call last)",
      "\u001b[0;32m<ipython-input-70-9b071a8ac360>\u001b[0m in \u001b[0;36m<module>\u001b[0;34m\u001b[0m\n\u001b[1;32m     64\u001b[0m \u001b[0;31m# Oversample Exhale\u001b[0m\u001b[0;34m\u001b[0m\u001b[0;34m\u001b[0m\u001b[0;34m\u001b[0m\u001b[0m\n\u001b[1;32m     65\u001b[0m \u001b[0mfm_i_train\u001b[0m\u001b[0;34m,\u001b[0m \u001b[0mlm_i_train\u001b[0m \u001b[0;34m=\u001b[0m \u001b[0moversample_class\u001b[0m\u001b[0;34m(\u001b[0m\u001b[0mtarget_len\u001b[0m\u001b[0;34m,\u001b[0m \u001b[0mfm_i\u001b[0m\u001b[0;34m[\u001b[0m\u001b[0;34m:\u001b[0m\u001b[0mcut_e\u001b[0m\u001b[0;34m]\u001b[0m\u001b[0;34m,\u001b[0m \u001b[0mlm_i\u001b[0m\u001b[0;34m[\u001b[0m\u001b[0;34m:\u001b[0m\u001b[0mcut_e\u001b[0m\u001b[0;34m]\u001b[0m\u001b[0;34m)\u001b[0m\u001b[0;34m\u001b[0m\u001b[0;34m\u001b[0m\u001b[0m\n\u001b[0;32m---> 66\u001b[0;31m \u001b[0mfm_i_test\u001b[0m\u001b[0;34m,\u001b[0m \u001b[0mlm_i_test\u001b[0m \u001b[0;34m=\u001b[0m \u001b[0moversample_class\u001b[0m\u001b[0;34m(\u001b[0m\u001b[0mtarget_len\u001b[0m\u001b[0;34m,\u001b[0m \u001b[0mfm_i\u001b[0m\u001b[0;34m[\u001b[0m\u001b[0mcut_e\u001b[0m\u001b[0;34m+\u001b[0m\u001b[0;36m1\u001b[0m\u001b[0;34m:\u001b[0m \u001b[0;34m]\u001b[0m\u001b[0;34m,\u001b[0m \u001b[0mlm_i\u001b[0m\u001b[0;34m[\u001b[0m\u001b[0mcut_e\u001b[0m\u001b[0;34m+\u001b[0m\u001b[0;36m1\u001b[0m\u001b[0;34m:\u001b[0m \u001b[0;34m]\u001b[0m\u001b[0;34m)\u001b[0m\u001b[0;34m\u001b[0m\u001b[0;34m\u001b[0m\u001b[0m\n\u001b[0m\u001b[1;32m     67\u001b[0m \u001b[0;34m\u001b[0m\u001b[0m\n\u001b[1;32m     68\u001b[0m \u001b[0;31m# Ovesample Inhale\u001b[0m\u001b[0;34m\u001b[0m\u001b[0;34m\u001b[0m\u001b[0;34m\u001b[0m\u001b[0m\n",
      "\u001b[0;32m<ipython-input-70-9b071a8ac360>\u001b[0m in \u001b[0;36moversample_class\u001b[0;34m(target_len, feature, label)\u001b[0m\n\u001b[1;32m     38\u001b[0m \u001b[0;32mdef\u001b[0m \u001b[0moversample_class\u001b[0m\u001b[0;34m(\u001b[0m\u001b[0mtarget_len\u001b[0m\u001b[0;34m,\u001b[0m \u001b[0mfeature\u001b[0m\u001b[0;34m,\u001b[0m \u001b[0mlabel\u001b[0m\u001b[0;34m)\u001b[0m\u001b[0;34m:\u001b[0m\u001b[0;34m\u001b[0m\u001b[0;34m\u001b[0m\u001b[0m\n\u001b[1;32m     39\u001b[0m     \u001b[0mdistance\u001b[0m \u001b[0;34m=\u001b[0m \u001b[0mtarget_len\u001b[0m \u001b[0;34m-\u001b[0m \u001b[0mlen\u001b[0m\u001b[0;34m(\u001b[0m\u001b[0mfeature\u001b[0m\u001b[0;34m)\u001b[0m\u001b[0;34m\u001b[0m\u001b[0;34m\u001b[0m\u001b[0m\n\u001b[0;32m---> 40\u001b[0;31m     \u001b[0miterations\u001b[0m \u001b[0;34m=\u001b[0m \u001b[0mdistance\u001b[0m \u001b[0;34m/\u001b[0m \u001b[0mlen\u001b[0m\u001b[0;34m(\u001b[0m\u001b[0mfeature\u001b[0m\u001b[0;34m)\u001b[0m\u001b[0;34m\u001b[0m\u001b[0;34m\u001b[0m\u001b[0m\n\u001b[0m\u001b[1;32m     41\u001b[0m     \u001b[0mfm_oversampled\u001b[0m \u001b[0;34m=\u001b[0m \u001b[0;34m[\u001b[0m\u001b[0;34m]\u001b[0m\u001b[0;34m\u001b[0m\u001b[0;34m\u001b[0m\u001b[0m\n\u001b[1;32m     42\u001b[0m     \u001b[0mlm_oversampled\u001b[0m \u001b[0;34m=\u001b[0m \u001b[0;34m[\u001b[0m\u001b[0;34m]\u001b[0m\u001b[0;34m\u001b[0m\u001b[0;34m\u001b[0m\u001b[0m\n",
      "\u001b[0;31mZeroDivisionError\u001b[0m: division by zero"
     ]
    }
   ],
   "source": [
    "# Noise\n",
    "fm_n = []\n",
    "lm_n = []\n",
    "# drug\n",
    "fm_d = []\n",
    "lm_d = []\n",
    "# Exhale\n",
    "fm_e = []\n",
    "lm_e = []\n",
    "# Inhale\n",
    "fm_i = []\n",
    "lm_i = []\n",
    "\n",
    "for i, label in enumerate(lm):\n",
    "    if list(label) == [0,0,0,1]:\n",
    "        fm_n.append(fm[i])\n",
    "        lm_n.append(lm[i])\n",
    "    elif list(label) == [0,0,1,0]:\n",
    "        fm_d.append(fm[i])\n",
    "        lm_d.append(lm[i])\n",
    "    elif list(label) == [0,1,0,0]:\n",
    "        fm_e.append(fm[i])\n",
    "        lm_e.append(lm[i])\n",
    "    else:\n",
    "        fm_i.append(fm[i])\n",
    "        lm_i.append(lm[i])\n",
    "        \n",
    "# fm_n = np.array(fm_n)\n",
    "# fm_d = np.array(fm_d)        \n",
    "# fm_e = np.array(fm_e)        \n",
    "# fm_i = np.array(fm_i)        \n",
    "\n",
    "\n",
    "target_len = max(len(fm_n), len(fm_d), len(fm_e), len(fm_i))        \n",
    "\n",
    "number_of_classes = 4\n",
    "\n",
    "def oversample_class(target_len, feature, label):\n",
    "    distance = target_len - len(feature)\n",
    "    iterations = distance / len(feature)\n",
    "    fm_oversampled = []\n",
    "    lm_oversampled = []\n",
    "    \n",
    "    for i in range(0, math.ceil(iterations)):\n",
    "        fm_oversampled += feature\n",
    "        lm_oversampled += label\n",
    "    \n",
    "    \n",
    "    return fm_oversampled, lm_oversampled\n",
    "\n",
    "\n"
   ]
  }
 ],
 "metadata": {
  "kernelspec": {
   "display_name": "Python 3",
   "language": "python",
   "name": "python3"
  },
  "language_info": {
   "codemirror_mode": {
    "name": "ipython",
    "version": 3
   },
   "file_extension": ".py",
   "mimetype": "text/x-python",
   "name": "python",
   "nbconvert_exporter": "python",
   "pygments_lexer": "ipython3",
   "version": "3.7.1"
  },
  "varInspector": {
   "cols": {
    "lenName": 16,
    "lenType": 16,
    "lenVar": 40
   },
   "kernels_config": {
    "python": {
     "delete_cmd_postfix": "",
     "delete_cmd_prefix": "del ",
     "library": "var_list.py",
     "varRefreshCmd": "print(var_dic_list())"
    },
    "r": {
     "delete_cmd_postfix": ") ",
     "delete_cmd_prefix": "rm(",
     "library": "var_list.r",
     "varRefreshCmd": "cat(var_dic_list()) "
    }
   },
   "types_to_exclude": [
    "module",
    "function",
    "builtin_function_or_method",
    "instance",
    "_Feature"
   ],
   "window_display": false
  }
 },
 "nbformat": 4,
 "nbformat_minor": 2
}

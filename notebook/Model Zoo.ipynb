{
 "cells": [
  {
   "cell_type": "code",
   "execution_count": 1,
   "metadata": {},
   "outputs": [],
   "source": [
    "\n",
    "import tensorflow as tf\n",
    "from tensorboard.plugins.hparams import api as hp\n",
    "import math\n",
    "import os\n",
    "import sys\n",
    "module_path = os.path.abspath(os.path.join('..'))\n",
    "if module_path not in sys.path:\n",
    "    sys.path.append(module_path)\n",
    "from src.preparation import fetch_dataset\n",
    "from src.processing import split_train_test_val, dataset_to_array, dataset_to_generator, make_tf_dataset\n",
    "from src.modules.visualizer import do_heatmap\n",
    "import numpy as np"
   ]
  },
  {
   "cell_type": "code",
   "execution_count": 2,
   "metadata": {},
   "outputs": [],
   "source": [
    "from tensorflow.python.keras.models import Sequential\n",
    "from tensorflow.python.keras.layers import Dense, Dropout, Flatten\n",
    "from tensorflow.python.keras.layers import LSTM"
   ]
  },
  {
   "cell_type": "code",
   "execution_count": 3,
   "metadata": {},
   "outputs": [],
   "source": [
    "# This is the size of the window that is fed into the DNN\n",
    "window_size = 15\n",
    "# The number of the features present in the dataset\n",
    "num_of_features = 42\n",
    "# Number of distinct labels in the output\n",
    "label_length = 4\n",
    "# Hyperparameter that defines the number of samples to work through\n",
    "# before updating the internal model parameters.\n",
    "batch_size = 25\n",
    "# Epochs\n",
    "ep = 100"
   ]
  },
  {
   "cell_type": "code",
   "execution_count": 4,
   "metadata": {},
   "outputs": [],
   "source": [
    "# Create a model\n",
    "model = Sequential()\n",
    "model.add(LSTM(512, return_sequences=False, input_shape=(window_size, num_of_features)))\n",
    "model.add(Dropout(0.3))\n",
    "model.add(Flatten())\n",
    "model.add(Dense(label_length, activation='softmax'))\n",
    "model.compile(loss='binary_crossentropy',\n",
    "                   optimizer='adam',\n",
    "                   metrics=['accuracy',])\n"
   ]
  },
  {
   "cell_type": "code",
   "execution_count": 5,
   "metadata": {},
   "outputs": [
    {
     "name": "stderr",
     "output_type": "stream",
     "text": [
      "WARNING: Logging before flag parsing goes to stderr.\n",
      "W0730 13:42:36.229768 4659004864 deprecation.py:323] From /Users/noresources/anaconda3/lib/python3.7/site-packages/tensorflow/python/data/ops/dataset_ops.py:505: py_func (from tensorflow.python.ops.script_ops) is deprecated and will be removed in a future version.\n",
      "Instructions for updating:\n",
      "tf.py_func is deprecated in TF V2. Instead, there are two\n",
      "    options available in V2.\n",
      "    - tf.py_function takes a python function which manipulates tf eager\n",
      "    tensors instead of numpy arrays. It's easy to convert a tf eager tensor to\n",
      "    an ndarray (just call tensor.numpy()) but having access to eager tensors\n",
      "    means `tf.py_function`s can use accelerators such as GPUs as well as\n",
      "    being differentiable using a gradient tape.\n",
      "    - tf.numpy_function maintains the semantics of the deprecated tf.py_func\n",
      "    (it is not differentiable, and manipulates numpy arrays). It drops the\n",
      "    stateful argument making all functions stateful.\n",
      "    \n"
     ]
    },
    {
     "name": "stdout",
     "output_type": "stream",
     "text": [
      "Epoch 1/100\n"
     ]
    },
    {
     "name": "stderr",
     "output_type": "stream",
     "text": [
      "W0730 13:42:37.029266 4659004864 deprecation.py:323] From /Users/noresources/anaconda3/lib/python3.7/site-packages/tensorflow/python/ops/math_grad.py:1250: add_dispatch_support.<locals>.wrapper (from tensorflow.python.ops.array_ops) is deprecated and will be removed in a future version.\n",
      "Instructions for updating:\n",
      "Use tf.where in 2.0, which has the same broadcast rule as np.where\n"
     ]
    },
    {
     "name": "stdout",
     "output_type": "stream",
     "text": [
      "2386/2386 [==============================] - 736s 309ms/step - loss: 0.2677 - accuracy: 0.9039\n",
      "Epoch 2/100\n",
      "2386/2386 [==============================] - 654s 274ms/step - loss: 0.1687 - accuracy: 0.9384\n",
      "Epoch 3/100\n",
      "2386/2386 [==============================] - 725s 304ms/step - loss: 0.1437 - accuracy: 0.9466\n",
      "Epoch 4/100\n",
      "2386/2386 [==============================] - 751s 315ms/step - loss: 0.1215 - accuracy: 0.9543\n",
      "Epoch 5/100\n",
      "2386/2386 [==============================] - 657s 275ms/step - loss: 0.1157 - accuracy: 0.9563\n",
      "Epoch 6/100\n",
      "2386/2386 [==============================] - 658s 276ms/step - loss: 0.1049 - accuracy: 0.9610\n",
      "Epoch 7/100\n",
      "2386/2386 [==============================] - 659s 276ms/step - loss: 0.0964 - accuracy: 0.9641\n",
      "Epoch 8/100\n",
      "2386/2386 [==============================] - 654s 274ms/step - loss: 0.0894 - accuracy: 0.9665\n",
      "Epoch 9/100\n",
      "2386/2386 [==============================] - 660s 277ms/step - loss: 0.0830 - accuracy: 0.9692\n",
      "Epoch 10/100\n",
      "2386/2386 [==============================] - 663s 278ms/step - loss: 0.0732 - accuracy: 0.9723\n",
      "Epoch 11/100\n",
      "2386/2386 [==============================] - 658s 276ms/step - loss: 0.0734 - accuracy: 0.9725\n",
      "Epoch 12/100\n",
      "2386/2386 [==============================] - 660s 277ms/step - loss: 0.0666 - accuracy: 0.9757\n",
      "Epoch 13/100\n",
      "2386/2386 [==============================] - 661s 277ms/step - loss: 0.0593 - accuracy: 0.9780\n",
      "Epoch 14/100\n",
      "2386/2386 [==============================] - 665s 279ms/step - loss: 0.0570 - accuracy: 0.9789\n",
      "Epoch 15/100\n",
      "2386/2386 [==============================] - 665s 279ms/step - loss: 0.0552 - accuracy: 0.9803\n",
      "Epoch 16/100\n",
      "2386/2386 [==============================] - 669s 280ms/step - loss: 0.0491 - accuracy: 0.9827\n",
      "Epoch 17/100\n",
      "2386/2386 [==============================] - 615s 258ms/step - loss: 0.0492 - accuracy: 0.9824\n",
      "Epoch 18/100\n",
      "2386/2386 [==============================] - 684s 287ms/step - loss: 0.0463 - accuracy: 0.9833\n",
      "Epoch 19/100\n",
      "2386/2386 [==============================] - 682s 286ms/step - loss: 0.0466 - accuracy: 0.9834\n",
      "Epoch 20/100\n",
      "2386/2386 [==============================] - 682s 286ms/step - loss: 0.0423 - accuracy: 0.9851\n",
      "Epoch 21/100\n",
      "2386/2386 [==============================] - 685s 287ms/step - loss: 0.0406 - accuracy: 0.9854\n",
      "Epoch 22/100\n",
      "2386/2386 [==============================] - 685s 287ms/step - loss: 0.0357 - accuracy: 0.9872\n",
      "Epoch 23/100\n",
      "2386/2386 [==============================] - 691s 290ms/step - loss: 0.0372 - accuracy: 0.9871\n",
      "Epoch 24/100\n",
      "2386/2386 [==============================] - 692s 290ms/step - loss: 0.0366 - accuracy: 0.9874\n",
      "Epoch 25/100\n",
      "2386/2386 [==============================] - 704s 295ms/step - loss: 0.0344 - accuracy: 0.9878\n",
      "Epoch 26/100\n",
      "2386/2386 [==============================] - 697s 292ms/step - loss: 0.0305 - accuracy: 0.9893\n",
      "Epoch 27/100\n",
      "2386/2386 [==============================] - 701s 294ms/step - loss: 0.0320 - accuracy: 0.9887\n",
      "Epoch 28/100\n",
      "2386/2386 [==============================] - 701s 294ms/step - loss: 0.0328 - accuracy: 0.9885\n",
      "Epoch 29/100\n",
      "2386/2386 [==============================] - 850s 356ms/step - loss: 0.0284 - accuracy: 0.9904\n",
      "Epoch 30/100\n",
      "2386/2386 [==============================] - 1013s 425ms/step - loss: 0.0252 - accuracy: 0.9912\n",
      "Epoch 31/100\n",
      "2386/2386 [==============================] - 747s 313ms/step - loss: 0.0337 - accuracy: 0.9881\n",
      "Epoch 32/100\n",
      "2386/2386 [==============================] - 806s 338ms/step - loss: 0.0288 - accuracy: 0.9902\n",
      "Epoch 33/100\n",
      "2386/2386 [==============================] - 715s 299ms/step - loss: 0.0325 - accuracy: 0.9892\n",
      "Epoch 34/100\n",
      "2386/2386 [==============================] - 653s 274ms/step - loss: 0.0281 - accuracy: 0.9903\n",
      "Epoch 35/100\n",
      "2386/2386 [==============================] - 655s 274ms/step - loss: 0.0237 - accuracy: 0.9918\n",
      "Epoch 36/100\n",
      "2386/2386 [==============================] - 656s 275ms/step - loss: 0.0262 - accuracy: 0.9910\n",
      "Epoch 37/100\n",
      "2386/2386 [==============================] - 657s 275ms/step - loss: 0.0308 - accuracy: 0.9896\n",
      "Epoch 38/100\n",
      "2386/2386 [==============================] - 664s 278ms/step - loss: 0.0270 - accuracy: 0.9909\n",
      "Epoch 39/100\n",
      "2386/2386 [==============================] - 648s 272ms/step - loss: 0.0236 - accuracy: 0.9922\n",
      "Epoch 40/100\n",
      "2386/2386 [==============================] - 648s 272ms/step - loss: 0.0263 - accuracy: 0.9910\n",
      "Epoch 41/100\n",
      "2386/2386 [==============================] - 647s 271ms/step - loss: 0.0231 - accuracy: 0.9922\n",
      "Epoch 42/100\n",
      "2386/2386 [==============================] - 643s 269ms/step - loss: 0.0227 - accuracy: 0.9927\n",
      "Epoch 43/100\n",
      "2386/2386 [==============================] - 744s 312ms/step - loss: 0.0203 - accuracy: 0.9929\n",
      "Epoch 44/100\n",
      "2386/2386 [==============================] - 3022s 1s/step - loss: 0.0221 - accuracy: 0.9926\n",
      "Epoch 45/100\n",
      "2386/2386 [==============================] - 691s 290ms/step - loss: 0.0243 - accuracy: 0.9919\n",
      "Epoch 46/100\n",
      "2386/2386 [==============================] - 696s 292ms/step - loss: 0.0200 - accuracy: 0.9932\n",
      "Epoch 47/100\n",
      "2386/2386 [==============================] - 701s 294ms/step - loss: 0.0205 - accuracy: 0.9929\n",
      "Epoch 48/100\n",
      "2386/2386 [==============================] - 739s 310ms/step - loss: 0.0231 - accuracy: 0.9921\n",
      "Epoch 49/100\n",
      "2386/2386 [==============================] - 812s 341ms/step - loss: 0.0184 - accuracy: 0.9938\n",
      "Epoch 50/100\n",
      "2386/2386 [==============================] - 687s 288ms/step - loss: 0.0176 - accuracy: 0.9938\n",
      "Epoch 51/100\n",
      "2386/2386 [==============================] - 719s 301ms/step - loss: 0.0203 - accuracy: 0.9932\n",
      "Epoch 52/100\n",
      "2386/2386 [==============================] - 657s 275ms/step - loss: 0.0174 - accuracy: 0.9940\n",
      "Epoch 53/100\n",
      "2386/2386 [==============================] - 638s 268ms/step - loss: 0.0182 - accuracy: 0.9939\n",
      "Epoch 54/100\n",
      "2386/2386 [==============================] - 639s 268ms/step - loss: 0.0183 - accuracy: 0.9940\n",
      "Epoch 55/100\n",
      "2386/2386 [==============================] - 640s 268ms/step - loss: 0.0192 - accuracy: 0.9935\n",
      "Epoch 56/100\n",
      "2386/2386 [==============================] - 639s 268ms/step - loss: 0.0173 - accuracy: 0.9939\n",
      "Epoch 57/100\n",
      "2386/2386 [==============================] - 638s 268ms/step - loss: 0.0199 - accuracy: 0.9935\n",
      "Epoch 58/100\n",
      "2386/2386 [==============================] - 589s 247ms/step - loss: 0.0159 - accuracy: 0.9943\n",
      "Epoch 59/100\n",
      "2386/2386 [==============================] - 641s 269ms/step - loss: 0.0179 - accuracy: 0.9940\n",
      "Epoch 60/100\n",
      "2386/2386 [==============================] - 641s 268ms/step - loss: 0.0193 - accuracy: 0.9937\n",
      "Epoch 61/100\n",
      "2386/2386 [==============================] - 637s 267ms/step - loss: 0.0161 - accuracy: 0.9947\n",
      "Epoch 62/100\n",
      "2386/2386 [==============================] - 638s 267ms/step - loss: 0.0167 - accuracy: 0.9946\n",
      "Epoch 63/100\n",
      "2386/2386 [==============================] - 638s 267ms/step - loss: 0.0162 - accuracy: 0.9949\n",
      "Epoch 64/100\n",
      "2386/2386 [==============================] - 638s 267ms/step - loss: 0.0190 - accuracy: 0.9937\n",
      "Epoch 65/100\n",
      "2386/2386 [==============================] - 641s 269ms/step - loss: 0.0167 - accuracy: 0.9945\n",
      "Epoch 66/100\n",
      "2386/2386 [==============================] - 638s 267ms/step - loss: 0.0153 - accuracy: 0.9948\n",
      "Epoch 67/100\n",
      "2386/2386 [==============================] - 650s 272ms/step - loss: 0.0151 - accuracy: 0.9950\n",
      "Epoch 68/100\n",
      "2386/2386 [==============================] - 689s 289ms/step - loss: 0.0142 - accuracy: 0.9955\n",
      "Epoch 69/100\n",
      "2386/2386 [==============================] - 778s 326ms/step - loss: 0.0151 - accuracy: 0.9951\n",
      "Epoch 70/100\n",
      "2386/2386 [==============================] - 817s 342ms/step - loss: 0.0140 - accuracy: 0.9954\n",
      "Epoch 71/100\n",
      "2386/2386 [==============================] - 848s 355ms/step - loss: 0.0142 - accuracy: 0.9953\n",
      "Epoch 72/100\n",
      "2386/2386 [==============================] - 678s 284ms/step - loss: 0.0146 - accuracy: 0.9949\n",
      "Epoch 73/100\n",
      "2386/2386 [==============================] - 669s 280ms/step - loss: 0.0153 - accuracy: 0.9950\n",
      "Epoch 74/100\n",
      "2386/2386 [==============================] - 668s 280ms/step - loss: 0.0131 - accuracy: 0.9954\n",
      "Epoch 75/100\n",
      "2386/2386 [==============================] - 713s 299ms/step - loss: 0.0138 - accuracy: 0.9955\n",
      "Epoch 76/100\n",
      "2386/2386 [==============================] - 721s 302ms/step - loss: 0.0168 - accuracy: 0.9948\n",
      "Epoch 77/100\n"
     ]
    },
    {
     "name": "stdout",
     "output_type": "stream",
     "text": [
      "2386/2386 [==============================] - 752s 315ms/step - loss: 0.0117 - accuracy: 0.9961\n",
      "Epoch 78/100\n",
      "2386/2386 [==============================] - 715s 300ms/step - loss: 0.0139 - accuracy: 0.9954\n",
      "Epoch 79/100\n",
      "2386/2386 [==============================] - 648s 271ms/step - loss: 0.0133 - accuracy: 0.9958\n",
      "Epoch 80/100\n",
      "2386/2386 [==============================] - 647s 271ms/step - loss: 0.0141 - accuracy: 0.9957\n",
      "Epoch 81/100\n",
      "2386/2386 [==============================] - 645s 270ms/step - loss: 0.0150 - accuracy: 0.9953\n",
      "Epoch 82/100\n",
      "2386/2386 [==============================] - 644s 270ms/step - loss: 0.0143 - accuracy: 0.9953\n",
      "Epoch 83/100\n",
      "2386/2386 [==============================] - 645s 270ms/step - loss: 0.0129 - accuracy: 0.9960\n",
      "Epoch 84/100\n",
      "2386/2386 [==============================] - 645s 270ms/step - loss: 0.0122 - accuracy: 0.9959\n",
      "Epoch 85/100\n",
      "2386/2386 [==============================] - 647s 271ms/step - loss: 0.0131 - accuracy: 0.9957\n",
      "Epoch 86/100\n",
      "2386/2386 [==============================] - 643s 269ms/step - loss: 0.0127 - accuracy: 0.9960\n",
      "Epoch 87/100\n",
      "2386/2386 [==============================] - 644s 270ms/step - loss: 0.0116 - accuracy: 0.9963\n",
      "Epoch 88/100\n",
      "2386/2386 [==============================] - 643s 269ms/step - loss: 0.0139 - accuracy: 0.9958\n",
      "Epoch 89/100\n",
      "2386/2386 [==============================] - 641s 268ms/step - loss: 0.0130 - accuracy: 0.9958\n",
      "Epoch 90/100\n",
      "2386/2386 [==============================] - 644s 270ms/step - loss: 0.0150 - accuracy: 0.9954\n",
      "Epoch 91/100\n",
      "2386/2386 [==============================] - 648s 272ms/step - loss: 0.0128 - accuracy: 0.9957\n",
      "Epoch 92/100\n",
      "2386/2386 [==============================] - 649s 272ms/step - loss: 0.0126 - accuracy: 0.9959\n",
      "Epoch 93/100\n",
      "2386/2386 [==============================] - 647s 271ms/step - loss: 0.0149 - accuracy: 0.9953\n",
      "Epoch 94/100\n",
      "2386/2386 [==============================] - 647s 271ms/step - loss: 0.0126 - accuracy: 0.9959\n",
      "Epoch 95/100\n",
      "2386/2386 [==============================] - 646s 271ms/step - loss: 0.0175 - accuracy: 0.9943\n",
      "Epoch 96/100\n",
      "2386/2386 [==============================] - 650s 273ms/step - loss: 0.0142 - accuracy: 0.9959\n",
      "Epoch 97/100\n",
      "2386/2386 [==============================] - 653s 274ms/step - loss: 0.0113 - accuracy: 0.9965\n",
      "Epoch 98/100\n",
      "2386/2386 [==============================] - 655s 274ms/step - loss: 0.0144 - accuracy: 0.9956\n",
      "Epoch 99/100\n",
      "2386/2386 [==============================] - 600s 252ms/step - loss: 0.0114 - accuracy: 0.9963\n",
      "Epoch 100/100\n",
      "2386/2386 [==============================] - 654s 274ms/step - loss: 0.0129 - accuracy: 0.9959\n"
     ]
    },
    {
     "data": {
      "text/plain": [
       "<tensorflow.python.keras.callbacks.History at 0x1a35a5eba8>"
      ]
     },
     "execution_count": 5,
     "metadata": {},
     "output_type": "execute_result"
    }
   ],
   "source": [
    "from src.processing import make_tf_dataset, split_train_test\n",
    "\n",
    "dataset = fetch_dataset('dataset_all_slim.pkl')\n",
    "\n",
    "train, test, val = split_train_test_val(dataset)\n",
    "\n",
    "data_train = make_tf_dataset(train, window_size, num_of_features, label_length ).batch(batch_size)\n",
    "data_test = make_tf_dataset(test ,window_size, num_of_features, label_length).batch(batch_size)\n",
    "\n",
    "model.fit(data_train, epochs=ep)\n"
   ]
  },
  {
   "cell_type": "code",
   "execution_count": 7,
   "metadata": {},
   "outputs": [
    {
     "name": "stdout",
     "output_type": "stream",
     "text": [
      "    493/Unknown - 35s 72ms/step - loss: 0.2483 - accuracy: 0.9645"
     ]
    }
   ],
   "source": [
    "data_val = make_tf_dataset(val ,window_size, num_of_features, label_length).batch(batch_size)\n",
    "\n",
    "results = model.evaluate(data_val)"
   ]
  },
  {
   "cell_type": "code",
   "execution_count": 15,
   "metadata": {},
   "outputs": [
    {
     "name": "stdout",
     "output_type": "stream",
     "text": [
      "\n",
      "\n",
      "    493/Unknown - 50s 101ms/step - loss: 0.2483 - accuracy: 0.9645\n",
      " tf.Tensor(\n",
      "[[3244   45   11  151]\n",
      " [  30 5463    0  244]\n",
      " [  12   17  573  168]\n",
      " [ 103   76   35 2157]], shape=(4, 4), dtype=int32)\n"
     ]
    }
   ],
   "source": [
    "from tensorflow.compat.v1.math import confusion_matrix\n",
    "\n",
    "def list_to_num(el):\n",
    "    if el == [1,0,0,0]:\n",
    "        return 0\n",
    "    elif el == [0,1,0,0]:\n",
    "        return 1\n",
    "    elif el == [0,0,1,0]:\n",
    "        return 2\n",
    "    elif el == [0,0,0,1]:\n",
    "        return 3\n",
    "    else:\n",
    "        print('Error',el)\n",
    "        \n",
    "def test_model(md, dt):\n",
    "    print('\\n')\n",
    "    data_test = make_tf_dataset(dt, window_size, num_of_features, label_length ).batch(batch_size)\n",
    "    results = md.evaluate(data_test)\n",
    "    \n",
    "    ph = []\n",
    "    predictions = md.predict(data_test)\n",
    "    for pred in predictions:\n",
    "        i = list(pred).index(max(list(pred)))\n",
    "        ph.append(i)\n",
    "    # Ground truth\n",
    "    fm , labels = dataset_to_array(dt)\n",
    "    # Padding\n",
    "    ph = ph + [3 for i in range (0, len(labels) - len(ph))]\n",
    "    \n",
    "    # -----------------\n",
    "    labels = [list_to_num(list(x)) for x in labels]\n",
    "    # CM\n",
    "    cm = confusion_matrix(labels, ph)\n",
    "    print('\\n',cm)\n",
    "    \n",
    "test_model(model, val)"
   ]
  },
  {
   "cell_type": "code",
   "execution_count": 10,
   "metadata": {},
   "outputs": [
    {
     "name": "stderr",
     "output_type": "stream",
     "text": [
      "W0728 19:44:36.695498 4579685824 deprecation.py:323] From /Users/noresources/anaconda3/lib/python3.7/site-packages/tensorflow/python/ops/math_grad.py:1250: add_dispatch_support.<locals>.wrapper (from tensorflow.python.ops.array_ops) is deprecated and will be removed in a future version.\n",
      "Instructions for updating:\n",
      "Use tf.where in 2.0, which has the same broadcast rule as np.where\n"
     ]
    },
    {
     "name": "stdout",
     "output_type": "stream",
     "text": [
      "Epoch 1/100\n",
      "    159/Unknown - 7s 44ms/step - loss: 0.2982 - accuracy: 0.8811 6s 51"
     ]
    },
    {
     "ename": "KeyboardInterrupt",
     "evalue": "",
     "output_type": "error",
     "traceback": [
      "\u001b[0;31m---------------------------------------------------------------------------\u001b[0m",
      "\u001b[0;31mKeyboardInterrupt\u001b[0m                         Traceback (most recent call last)",
      "\u001b[0;32m<ipython-input-10-31c9ddf8e331>\u001b[0m in \u001b[0;36m<module>\u001b[0;34m\u001b[0m\n\u001b[1;32m      4\u001b[0m \u001b[0;34m\u001b[0m\u001b[0m\n\u001b[1;32m      5\u001b[0m \u001b[0;34m\u001b[0m\u001b[0m\n\u001b[0;32m----> 6\u001b[0;31m \u001b[0mmodel\u001b[0m\u001b[0;34m.\u001b[0m\u001b[0mfit\u001b[0m\u001b[0;34m(\u001b[0m\u001b[0mdata_train\u001b[0m\u001b[0;34m,\u001b[0m \u001b[0mepochs\u001b[0m\u001b[0;34m=\u001b[0m\u001b[0mep\u001b[0m\u001b[0;34m)\u001b[0m\u001b[0;34m\u001b[0m\u001b[0;34m\u001b[0m\u001b[0m\n\u001b[0m",
      "\u001b[0;32m~/anaconda3/lib/python3.7/site-packages/tensorflow/python/keras/engine/training.py\u001b[0m in \u001b[0;36mfit\u001b[0;34m(self, x, y, batch_size, epochs, verbose, callbacks, validation_split, validation_data, shuffle, class_weight, sample_weight, initial_epoch, steps_per_epoch, validation_steps, validation_freq, max_queue_size, workers, use_multiprocessing, **kwargs)\u001b[0m\n\u001b[1;32m    641\u001b[0m         \u001b[0mmax_queue_size\u001b[0m\u001b[0;34m=\u001b[0m\u001b[0mmax_queue_size\u001b[0m\u001b[0;34m,\u001b[0m\u001b[0;34m\u001b[0m\u001b[0;34m\u001b[0m\u001b[0m\n\u001b[1;32m    642\u001b[0m         \u001b[0mworkers\u001b[0m\u001b[0;34m=\u001b[0m\u001b[0mworkers\u001b[0m\u001b[0;34m,\u001b[0m\u001b[0;34m\u001b[0m\u001b[0;34m\u001b[0m\u001b[0m\n\u001b[0;32m--> 643\u001b[0;31m         use_multiprocessing=use_multiprocessing)\n\u001b[0m\u001b[1;32m    644\u001b[0m \u001b[0;34m\u001b[0m\u001b[0m\n\u001b[1;32m    645\u001b[0m   def evaluate(self,\n",
      "\u001b[0;32m~/anaconda3/lib/python3.7/site-packages/tensorflow/python/keras/engine/training_generator.py\u001b[0m in \u001b[0;36mfit\u001b[0;34m(self, model, x, y, batch_size, epochs, verbose, callbacks, validation_split, validation_data, shuffle, class_weight, sample_weight, initial_epoch, steps_per_epoch, validation_steps, validation_freq, **kwargs)\u001b[0m\n\u001b[1;32m    692\u001b[0m         \u001b[0mshuffle\u001b[0m\u001b[0;34m=\u001b[0m\u001b[0mshuffle\u001b[0m\u001b[0;34m,\u001b[0m\u001b[0;34m\u001b[0m\u001b[0;34m\u001b[0m\u001b[0m\n\u001b[1;32m    693\u001b[0m         \u001b[0minitial_epoch\u001b[0m\u001b[0;34m=\u001b[0m\u001b[0minitial_epoch\u001b[0m\u001b[0;34m,\u001b[0m\u001b[0;34m\u001b[0m\u001b[0;34m\u001b[0m\u001b[0m\n\u001b[0;32m--> 694\u001b[0;31m         steps_name='steps_per_epoch')\n\u001b[0m\u001b[1;32m    695\u001b[0m \u001b[0;34m\u001b[0m\u001b[0m\n\u001b[1;32m    696\u001b[0m   def evaluate(self,\n",
      "\u001b[0;32m~/anaconda3/lib/python3.7/site-packages/tensorflow/python/keras/engine/training_generator.py\u001b[0m in \u001b[0;36mmodel_iteration\u001b[0;34m(model, data, steps_per_epoch, epochs, verbose, callbacks, validation_data, validation_steps, validation_freq, class_weight, max_queue_size, workers, use_multiprocessing, shuffle, initial_epoch, mode, batch_size, steps_name, **kwargs)\u001b[0m\n\u001b[1;32m    262\u001b[0m \u001b[0;34m\u001b[0m\u001b[0m\n\u001b[1;32m    263\u001b[0m       \u001b[0mis_deferred\u001b[0m \u001b[0;34m=\u001b[0m \u001b[0;32mnot\u001b[0m \u001b[0mmodel\u001b[0m\u001b[0;34m.\u001b[0m\u001b[0m_is_compiled\u001b[0m\u001b[0;34m\u001b[0m\u001b[0;34m\u001b[0m\u001b[0m\n\u001b[0;32m--> 264\u001b[0;31m       \u001b[0mbatch_outs\u001b[0m \u001b[0;34m=\u001b[0m \u001b[0mbatch_function\u001b[0m\u001b[0;34m(\u001b[0m\u001b[0;34m*\u001b[0m\u001b[0mbatch_data\u001b[0m\u001b[0;34m)\u001b[0m\u001b[0;34m\u001b[0m\u001b[0;34m\u001b[0m\u001b[0m\n\u001b[0m\u001b[1;32m    265\u001b[0m       \u001b[0;32mif\u001b[0m \u001b[0;32mnot\u001b[0m \u001b[0misinstance\u001b[0m\u001b[0;34m(\u001b[0m\u001b[0mbatch_outs\u001b[0m\u001b[0;34m,\u001b[0m \u001b[0mlist\u001b[0m\u001b[0;34m)\u001b[0m\u001b[0;34m:\u001b[0m\u001b[0;34m\u001b[0m\u001b[0;34m\u001b[0m\u001b[0m\n\u001b[1;32m    266\u001b[0m         \u001b[0mbatch_outs\u001b[0m \u001b[0;34m=\u001b[0m \u001b[0;34m[\u001b[0m\u001b[0mbatch_outs\u001b[0m\u001b[0;34m]\u001b[0m\u001b[0;34m\u001b[0m\u001b[0;34m\u001b[0m\u001b[0m\n",
      "\u001b[0;32m~/anaconda3/lib/python3.7/site-packages/tensorflow/python/keras/engine/training.py\u001b[0m in \u001b[0;36mtrain_on_batch\u001b[0;34m(self, x, y, sample_weight, class_weight, reset_metrics)\u001b[0m\n\u001b[1;32m    916\u001b[0m       \u001b[0mself\u001b[0m\u001b[0;34m.\u001b[0m\u001b[0m_update_sample_weight_modes\u001b[0m\u001b[0;34m(\u001b[0m\u001b[0msample_weights\u001b[0m\u001b[0;34m=\u001b[0m\u001b[0msample_weights\u001b[0m\u001b[0;34m)\u001b[0m\u001b[0;34m\u001b[0m\u001b[0;34m\u001b[0m\u001b[0m\n\u001b[1;32m    917\u001b[0m       \u001b[0mself\u001b[0m\u001b[0;34m.\u001b[0m\u001b[0m_make_train_function\u001b[0m\u001b[0;34m(\u001b[0m\u001b[0;34m)\u001b[0m\u001b[0;34m\u001b[0m\u001b[0;34m\u001b[0m\u001b[0m\n\u001b[0;32m--> 918\u001b[0;31m       \u001b[0moutputs\u001b[0m \u001b[0;34m=\u001b[0m \u001b[0mself\u001b[0m\u001b[0;34m.\u001b[0m\u001b[0mtrain_function\u001b[0m\u001b[0;34m(\u001b[0m\u001b[0mins\u001b[0m\u001b[0;34m)\u001b[0m  \u001b[0;31m# pylint: disable=not-callable\u001b[0m\u001b[0;34m\u001b[0m\u001b[0;34m\u001b[0m\u001b[0m\n\u001b[0m\u001b[1;32m    919\u001b[0m \u001b[0;34m\u001b[0m\u001b[0m\n\u001b[1;32m    920\u001b[0m     \u001b[0;32mif\u001b[0m \u001b[0mreset_metrics\u001b[0m\u001b[0;34m:\u001b[0m\u001b[0;34m\u001b[0m\u001b[0;34m\u001b[0m\u001b[0m\n",
      "\u001b[0;32m~/anaconda3/lib/python3.7/site-packages/tensorflow/python/keras/backend.py\u001b[0m in \u001b[0;36m__call__\u001b[0;34m(self, inputs)\u001b[0m\n\u001b[1;32m   3508\u001b[0m         \u001b[0mvalue\u001b[0m \u001b[0;34m=\u001b[0m \u001b[0mmath_ops\u001b[0m\u001b[0;34m.\u001b[0m\u001b[0mcast\u001b[0m\u001b[0;34m(\u001b[0m\u001b[0mvalue\u001b[0m\u001b[0;34m,\u001b[0m \u001b[0mtensor\u001b[0m\u001b[0;34m.\u001b[0m\u001b[0mdtype\u001b[0m\u001b[0;34m)\u001b[0m\u001b[0;34m\u001b[0m\u001b[0;34m\u001b[0m\u001b[0m\n\u001b[1;32m   3509\u001b[0m       \u001b[0mconverted_inputs\u001b[0m\u001b[0;34m.\u001b[0m\u001b[0mappend\u001b[0m\u001b[0;34m(\u001b[0m\u001b[0mvalue\u001b[0m\u001b[0;34m)\u001b[0m\u001b[0;34m\u001b[0m\u001b[0;34m\u001b[0m\u001b[0m\n\u001b[0;32m-> 3510\u001b[0;31m     \u001b[0moutputs\u001b[0m \u001b[0;34m=\u001b[0m \u001b[0mself\u001b[0m\u001b[0;34m.\u001b[0m\u001b[0m_graph_fn\u001b[0m\u001b[0;34m(\u001b[0m\u001b[0;34m*\u001b[0m\u001b[0mconverted_inputs\u001b[0m\u001b[0;34m)\u001b[0m\u001b[0;34m\u001b[0m\u001b[0;34m\u001b[0m\u001b[0m\n\u001b[0m\u001b[1;32m   3511\u001b[0m \u001b[0;34m\u001b[0m\u001b[0m\n\u001b[1;32m   3512\u001b[0m     \u001b[0;31m# EagerTensor.numpy() will often make a copy to ensure memory safety.\u001b[0m\u001b[0;34m\u001b[0m\u001b[0;34m\u001b[0m\u001b[0;34m\u001b[0m\u001b[0m\n",
      "\u001b[0;32m~/anaconda3/lib/python3.7/site-packages/tensorflow/python/eager/function.py\u001b[0m in \u001b[0;36m__call__\u001b[0;34m(self, *args, **kwargs)\u001b[0m\n\u001b[1;32m    570\u001b[0m       raise TypeError(\"Keyword arguments {} unknown. Expected {}.\".format(\n\u001b[1;32m    571\u001b[0m           list(kwargs.keys()), list(self._arg_keywords)))\n\u001b[0;32m--> 572\u001b[0;31m     \u001b[0;32mreturn\u001b[0m \u001b[0mself\u001b[0m\u001b[0;34m.\u001b[0m\u001b[0m_call_flat\u001b[0m\u001b[0;34m(\u001b[0m\u001b[0margs\u001b[0m\u001b[0;34m)\u001b[0m\u001b[0;34m\u001b[0m\u001b[0;34m\u001b[0m\u001b[0m\n\u001b[0m\u001b[1;32m    573\u001b[0m \u001b[0;34m\u001b[0m\u001b[0m\n\u001b[1;32m    574\u001b[0m   \u001b[0;32mdef\u001b[0m \u001b[0m_filtered_call\u001b[0m\u001b[0;34m(\u001b[0m\u001b[0mself\u001b[0m\u001b[0;34m,\u001b[0m \u001b[0margs\u001b[0m\u001b[0;34m,\u001b[0m \u001b[0mkwargs\u001b[0m\u001b[0;34m)\u001b[0m\u001b[0;34m:\u001b[0m\u001b[0;34m\u001b[0m\u001b[0;34m\u001b[0m\u001b[0m\n",
      "\u001b[0;32m~/anaconda3/lib/python3.7/site-packages/tensorflow/python/eager/function.py\u001b[0m in \u001b[0;36m_call_flat\u001b[0;34m(self, args)\u001b[0m\n\u001b[1;32m    669\u001b[0m     \u001b[0;31m# Only need to override the gradient in graph mode and when we have outputs.\u001b[0m\u001b[0;34m\u001b[0m\u001b[0;34m\u001b[0m\u001b[0;34m\u001b[0m\u001b[0m\n\u001b[1;32m    670\u001b[0m     \u001b[0;32mif\u001b[0m \u001b[0mcontext\u001b[0m\u001b[0;34m.\u001b[0m\u001b[0mexecuting_eagerly\u001b[0m\u001b[0;34m(\u001b[0m\u001b[0;34m)\u001b[0m \u001b[0;32mor\u001b[0m \u001b[0;32mnot\u001b[0m \u001b[0mself\u001b[0m\u001b[0;34m.\u001b[0m\u001b[0moutputs\u001b[0m\u001b[0;34m:\u001b[0m\u001b[0;34m\u001b[0m\u001b[0;34m\u001b[0m\u001b[0m\n\u001b[0;32m--> 671\u001b[0;31m       \u001b[0moutputs\u001b[0m \u001b[0;34m=\u001b[0m \u001b[0mself\u001b[0m\u001b[0;34m.\u001b[0m\u001b[0m_inference_function\u001b[0m\u001b[0;34m.\u001b[0m\u001b[0mcall\u001b[0m\u001b[0;34m(\u001b[0m\u001b[0mctx\u001b[0m\u001b[0;34m,\u001b[0m \u001b[0margs\u001b[0m\u001b[0;34m)\u001b[0m\u001b[0;34m\u001b[0m\u001b[0;34m\u001b[0m\u001b[0m\n\u001b[0m\u001b[1;32m    672\u001b[0m     \u001b[0;32melse\u001b[0m\u001b[0;34m:\u001b[0m\u001b[0;34m\u001b[0m\u001b[0;34m\u001b[0m\u001b[0m\n\u001b[1;32m    673\u001b[0m       \u001b[0mself\u001b[0m\u001b[0;34m.\u001b[0m\u001b[0m_register_gradient\u001b[0m\u001b[0;34m(\u001b[0m\u001b[0;34m)\u001b[0m\u001b[0;34m\u001b[0m\u001b[0;34m\u001b[0m\u001b[0m\n",
      "\u001b[0;32m~/anaconda3/lib/python3.7/site-packages/tensorflow/python/eager/function.py\u001b[0m in \u001b[0;36mcall\u001b[0;34m(self, ctx, args)\u001b[0m\n\u001b[1;32m    443\u001b[0m             attrs=(\"executor_type\", executor_type,\n\u001b[1;32m    444\u001b[0m                    \"config_proto\", config),\n\u001b[0;32m--> 445\u001b[0;31m             ctx=ctx)\n\u001b[0m\u001b[1;32m    446\u001b[0m       \u001b[0;31m# Replace empty list with None\u001b[0m\u001b[0;34m\u001b[0m\u001b[0;34m\u001b[0m\u001b[0;34m\u001b[0m\u001b[0m\n\u001b[1;32m    447\u001b[0m       \u001b[0moutputs\u001b[0m \u001b[0;34m=\u001b[0m \u001b[0moutputs\u001b[0m \u001b[0;32mor\u001b[0m \u001b[0;32mNone\u001b[0m\u001b[0;34m\u001b[0m\u001b[0;34m\u001b[0m\u001b[0m\n",
      "\u001b[0;32m~/anaconda3/lib/python3.7/site-packages/tensorflow/python/eager/execute.py\u001b[0m in \u001b[0;36mquick_execute\u001b[0;34m(op_name, num_outputs, inputs, attrs, ctx, name)\u001b[0m\n\u001b[1;32m     59\u001b[0m     tensors = pywrap_tensorflow.TFE_Py_Execute(ctx._handle, device_name,\n\u001b[1;32m     60\u001b[0m                                                \u001b[0mop_name\u001b[0m\u001b[0;34m,\u001b[0m \u001b[0minputs\u001b[0m\u001b[0;34m,\u001b[0m \u001b[0mattrs\u001b[0m\u001b[0;34m,\u001b[0m\u001b[0;34m\u001b[0m\u001b[0;34m\u001b[0m\u001b[0m\n\u001b[0;32m---> 61\u001b[0;31m                                                num_outputs)\n\u001b[0m\u001b[1;32m     62\u001b[0m   \u001b[0;32mexcept\u001b[0m \u001b[0mcore\u001b[0m\u001b[0;34m.\u001b[0m\u001b[0m_NotOkStatusException\u001b[0m \u001b[0;32mas\u001b[0m \u001b[0me\u001b[0m\u001b[0;34m:\u001b[0m\u001b[0;34m\u001b[0m\u001b[0;34m\u001b[0m\u001b[0m\n\u001b[1;32m     63\u001b[0m     \u001b[0;32mif\u001b[0m \u001b[0mname\u001b[0m \u001b[0;32mis\u001b[0m \u001b[0;32mnot\u001b[0m \u001b[0;32mNone\u001b[0m\u001b[0;34m:\u001b[0m\u001b[0;34m\u001b[0m\u001b[0;34m\u001b[0m\u001b[0m\n",
      "\u001b[0;31mKeyboardInterrupt\u001b[0m: "
     ]
    }
   ],
   "source": [
    "dataset = fetch_dataset('dataset_a1_f1_slim.pkl')\n",
    "data_train = make_tf_dataset(dataset, window_size, num_of_features, label_length ).batch(batch_size)\n",
    "\n",
    "\n",
    "\n",
    "model.fit(data_train, epochs=ep)\n"
   ]
  },
  {
   "cell_type": "code",
   "execution_count": null,
   "metadata": {},
   "outputs": [],
   "source": [
    "model.save('model_a1_f1_{0}.h5'.format(ep))  # creates a HDF5 file 'my_model.h5'\n"
   ]
  },
  {
   "cell_type": "code",
   "execution_count": null,
   "metadata": {},
   "outputs": [],
   "source": [
    "dataset = fetch_dataset('dataset_g1_slim.pkl')\n",
    "data_test = make_tf_dataset(dataset, window_size, num_of_features, label_length ).batch(batch_size)\n",
    "results = model.evaluate(data_test)"
   ]
  },
  {
   "cell_type": "code",
   "execution_count": null,
   "metadata": {},
   "outputs": [],
   "source": [
    "dataset = fetch_dataset('dataset_f1_g1_slim.pkl')\n",
    "data_train = make_tf_dataset(dataset, window_size, num_of_features, label_length ).batch(batch_size)\n",
    "\n",
    "\n",
    "model.save('model_f1_g1_{0}.h5'.format(ep))  # creates a HDF5 file 'my_model.h5'\n",
    "\n",
    "model.fit(data_train, epochs=ep)\n",
    "\n"
   ]
  },
  {
   "cell_type": "code",
   "execution_count": null,
   "metadata": {
    "scrolled": true
   },
   "outputs": [],
   "source": [
    "dataset = fetch_dataset('dataset_f1_slim.pkl')\n",
    "data_test = make_tf_dataset(dataset, window_size, num_of_features, label_length ).batch(batch_size)\n",
    "results = model.evaluate(data_test)"
   ]
  },
  {
   "cell_type": "code",
   "execution_count": null,
   "metadata": {},
   "outputs": [],
   "source": [
    "dataset = "
   ]
  }
 ],
 "metadata": {
  "kernelspec": {
   "display_name": "Python 3",
   "language": "python",
   "name": "python3"
  },
  "language_info": {
   "codemirror_mode": {
    "name": "ipython",
    "version": 3
   },
   "file_extension": ".py",
   "mimetype": "text/x-python",
   "name": "python",
   "nbconvert_exporter": "python",
   "pygments_lexer": "ipython3",
   "version": "3.7.3"
  },
  "varInspector": {
   "cols": {
    "lenName": 16,
    "lenType": 16,
    "lenVar": 40
   },
   "kernels_config": {
    "python": {
     "delete_cmd_postfix": "",
     "delete_cmd_prefix": "del ",
     "library": "var_list.py",
     "varRefreshCmd": "print(var_dic_list())"
    },
    "r": {
     "delete_cmd_postfix": ") ",
     "delete_cmd_prefix": "rm(",
     "library": "var_list.r",
     "varRefreshCmd": "cat(var_dic_list()) "
    }
   },
   "types_to_exclude": [
    "module",
    "function",
    "builtin_function_or_method",
    "instance",
    "_Feature"
   ],
   "window_display": false
  }
 },
 "nbformat": 4,
 "nbformat_minor": 2
}
